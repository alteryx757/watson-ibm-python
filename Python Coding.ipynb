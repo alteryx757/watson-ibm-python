{
    "cells": [
        {
            "metadata": {
                "collapsed": true
            },
            "cell_type": "markdown",
            "source": "# My Jupyter Notebook on IBM Watson Studio\n## **Uthra Agrawal**\nOccupation :- Principal Software Engineer\n\n"
        },
        {
            "metadata": {},
            "cell_type": "markdown",
            "source": "*Data Science/Data Analysis is very facinating!*"
        },
        {
            "metadata": {},
            "cell_type": "markdown",
            "source": "### The following code tests the Gauss formula"
        },
        {
            "metadata": {},
            "cell_type": "code",
            "source": "def gauss(n):\n    return (n*(n+1))/2\ngauss(100) == sum(range(101))",
            "execution_count": 1,
            "outputs": [
                {
                    "output_type": "execute_result",
                    "execution_count": 1,
                    "data": {
                        "text/plain": "True"
                    },
                    "metadata": {}
                }
            ]
        },
        {
            "metadata": {},
            "cell_type": "markdown",
            "source": "- one\n- two\n- three\n* one\n* two\n* three\n"
        },
        {
            "metadata": {},
            "cell_type": "markdown",
            "source": "| Markdown |less | Pretty |\n| ----------- | ----------- |-----|\n|Still | renders | nicely|\n|1 | 2 | 3|"
        },
        {
            "metadata": {},
            "cell_type": "markdown",
            "source": "[www.coursera.org](https://www.coursera.org/)"
        }
    ],
    "metadata": {
        "kernelspec": {
            "name": "python3",
            "display_name": "Python 3.7",
            "language": "python"
        },
        "language_info": {
            "name": "python",
            "version": "3.7.10",
            "mimetype": "text/x-python",
            "codemirror_mode": {
                "name": "ipython",
                "version": 3
            },
            "pygments_lexer": "ipython3",
            "nbconvert_exporter": "python",
            "file_extension": ".py"
        }
    },
    "nbformat": 4,
    "nbformat_minor": 1
}